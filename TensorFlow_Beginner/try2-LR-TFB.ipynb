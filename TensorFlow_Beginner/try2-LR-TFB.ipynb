{
 "cells": [
  {
   "cell_type": "markdown",
   "metadata": {},
   "source": [
    "https://www.youtube.com/watch?v=oxf3o8IbCk4 [23:33]\n",
    "\n",
    "http://ischlag.github.io/2016/06/04/how-to-use-tensorboard/ outdated\n",
    "\n",
    "https://www.tensorflow.org/programmers_guide/summaries_and_tensorboard"
   ]
  },
  {
   "cell_type": "markdown",
   "metadata": {},
   "source": [
    "# Linear Regression"
   ]
  },
  {
   "cell_type": "markdown",
   "metadata": {},
   "source": [
    "## Import"
   ]
  },
  {
   "cell_type": "code",
   "execution_count": 1,
   "metadata": {
    "ExecuteTime": {
     "end_time": "2018-04-03T11:45:50.440899Z",
     "start_time": "2018-04-03T11:45:49.208642Z"
    }
   },
   "outputs": [
    {
     "name": "stderr",
     "output_type": "stream",
     "text": [
      "/home/minesh/anaconda3/lib/python3.6/site-packages/h5py/__init__.py:34: FutureWarning: Conversion of the second argument of issubdtype from `float` to `np.floating` is deprecated. In future, it will be treated as `np.float64 == np.dtype(float).type`.\n",
      "  from ._conv import register_converters as _register_converters\n"
     ]
    }
   ],
   "source": [
    "import tensorflow as tf"
   ]
  },
  {
   "cell_type": "markdown",
   "metadata": {},
   "source": [
    "## Variables init"
   ]
  },
  {
   "cell_type": "code",
   "execution_count": 2,
   "metadata": {
    "ExecuteTime": {
     "end_time": "2018-04-03T11:45:50.462336Z",
     "start_time": "2018-04-03T11:45:50.442626Z"
    }
   },
   "outputs": [],
   "source": [
    "W = tf.Variable([0.3])\n",
    "b = tf.Variable([-0.3])\n",
    "x = tf.placeholder(tf.float32)\n",
    "linear_model = W * x + b"
   ]
  },
  {
   "cell_type": "code",
   "execution_count": 3,
   "metadata": {
    "ExecuteTime": {
     "end_time": "2018-04-03T11:45:50.540237Z",
     "start_time": "2018-04-03T11:45:50.464980Z"
    }
   },
   "outputs": [],
   "source": [
    "y = tf.placeholder(tf.float32)"
   ]
  },
  {
   "cell_type": "markdown",
   "metadata": {},
   "source": [
    "## Functions init"
   ]
  },
  {
   "cell_type": "code",
   "execution_count": 4,
   "metadata": {
    "ExecuteTime": {
     "end_time": "2018-04-03T11:45:50.623029Z",
     "start_time": "2018-04-03T11:45:50.542151Z"
    }
   },
   "outputs": [],
   "source": [
    "squared_deltas = tf.square(linear_model - y)\n",
    "loss = tf.reduce_sum(squared_deltas)"
   ]
  },
  {
   "cell_type": "code",
   "execution_count": 5,
   "metadata": {
    "ExecuteTime": {
     "end_time": "2018-04-03T11:45:50.685128Z",
     "start_time": "2018-04-03T11:45:50.625185Z"
    }
   },
   "outputs": [],
   "source": [
    "init = tf.global_variables_initializer()"
   ]
  },
  {
   "cell_type": "markdown",
   "metadata": {},
   "source": [
    "### Optimize"
   ]
  },
  {
   "cell_type": "code",
   "execution_count": 6,
   "metadata": {
    "ExecuteTime": {
     "end_time": "2018-04-03T11:45:50.796041Z",
     "start_time": "2018-04-03T11:45:50.687709Z"
    }
   },
   "outputs": [],
   "source": [
    "optimizer = tf.train.GradientDescentOptimizer(0.01)\n",
    "train = optimizer.minimize(loss)"
   ]
  },
  {
   "cell_type": "code",
   "execution_count": 7,
   "metadata": {
    "ExecuteTime": {
     "end_time": "2018-04-03T11:45:50.838973Z",
     "start_time": "2018-04-03T11:45:50.798548Z"
    }
   },
   "outputs": [],
   "source": [
    "# create a summary for our cost\n",
    "cost_sum = tf.summary.scalar(\"cost\", loss)\n",
    "#Weight_sum = tf.summary.scalar(\"Weight\", W)\n",
    "#bias_sum = tf.summary.scalar(\"bias\", b)\n",
    "with tf.name_scope('W'):\n",
    "    mean = tf.reduce_mean(W)\n",
    "    tf.summary.scalar('mean', mean)\n",
    "    #stddev = tf.sqrt(tf.reduce_mean(tf.square(W - mean)))\n",
    "    #tf.summary.scalar('stddev', stddev)\n",
    "with tf.name_scope('b'):\n",
    "    mean = tf.reduce_mean(b)\n",
    "    tf.summary.scalar('mean', mean)\n",
    "    #stddev = tf.sqrt(tf.reduce_mean(tf.square(W - mean)))\n",
    "    #tf.summary.scalar('stddev', stddev)\n",
    "\n",
    "merged = tf.summary.merge_all()"
   ]
  },
  {
   "cell_type": "code",
   "execution_count": 8,
   "metadata": {
    "ExecuteTime": {
     "end_time": "2018-04-03T11:45:50.895061Z",
     "start_time": "2018-04-03T11:45:50.841486Z"
    }
   },
   "outputs": [],
   "source": [
    "sess = tf.Session()"
   ]
  },
  {
   "cell_type": "code",
   "execution_count": 9,
   "metadata": {
    "ExecuteTime": {
     "end_time": "2018-04-03T11:45:50.974628Z",
     "start_time": "2018-04-03T11:45:50.897686Z"
    }
   },
   "outputs": [],
   "source": [
    "train_writer = tf.summary.FileWriter('./train',sess.graph)"
   ]
  },
  {
   "cell_type": "code",
   "execution_count": 10,
   "metadata": {
    "ExecuteTime": {
     "end_time": "2018-04-03T11:45:51.065007Z",
     "start_time": "2018-04-03T11:45:50.977495Z"
    }
   },
   "outputs": [],
   "source": [
    "#tf.InteractiveSession()\n",
    "#tf.global_variables_initializer().run()\n",
    "sess.run(init)"
   ]
  },
  {
   "cell_type": "code",
   "execution_count": 11,
   "metadata": {
    "ExecuteTime": {
     "end_time": "2018-04-03T11:45:51.147209Z",
     "start_time": "2018-04-03T11:45:51.067954Z"
    }
   },
   "outputs": [
    {
     "data": {
      "text/plain": [
       "[None]"
      ]
     },
     "execution_count": 11,
     "metadata": {},
     "output_type": "execute_result"
    }
   ],
   "source": [
    "sess.run([train],{x:[1,2,3,4],y:[0,-1,-2,-3]})"
   ]
  },
  {
   "cell_type": "code",
   "execution_count": 12,
   "metadata": {
    "ExecuteTime": {
     "end_time": "2018-04-03T11:45:51.486553Z",
     "start_time": "2018-04-03T11:45:51.149181Z"
    }
   },
   "outputs": [
    {
     "name": "stdout",
     "output_type": "stream",
     "text": [
      "[array([-0.39679998], dtype=float32), array([-0.49552003], dtype=float32)]\n",
      "loss: 1.8198743\n",
      "[array([-0.8445884], dtype=float32), array([0.543071], dtype=float32)]\n",
      "loss: 0.13947809\n",
      "[array([-0.95341456], dtype=float32), array([0.8630331], dtype=float32)]\n",
      "loss: 0.012532554\n",
      "[array([-0.9860358], dtype=float32), array([0.9589436], dtype=float32)]\n",
      "loss: 0.0011260821\n",
      "[array([-0.99581414], dtype=float32), array([0.98769313], dtype=float32)]\n",
      "loss: 0.000101181126\n"
     ]
    }
   ],
   "source": [
    "for i in range(500):\n",
    "    summary, _ = sess.run([merged,train],{x:[1,2,3,4],y:[0,-1,-2,-3]})\n",
    "    train_writer.add_summary(summary,i)\n",
    "    if i % 100 ==0 :\n",
    "        print(sess.run([W,b]))\n",
    "        print(\"loss:\",sess.run(loss,{x:[1,2,3,4],y:[0,-1,-2,-3]}))\n",
    "        "
   ]
  },
  {
   "cell_type": "code",
   "execution_count": null,
   "metadata": {},
   "outputs": [],
   "source": []
  },
  {
   "cell_type": "markdown",
   "metadata": {},
   "source": [
    "# tensor board"
   ]
  },
  {
   "cell_type": "code",
   "execution_count": 13,
   "metadata": {
    "ExecuteTime": {
     "end_time": "2018-04-03T11:45:51.493504Z",
     "start_time": "2018-04-03T11:45:51.488739Z"
    }
   },
   "outputs": [],
   "source": [
    "train_writer.close()"
   ]
  },
  {
   "cell_type": "code",
   "execution_count": 14,
   "metadata": {
    "ExecuteTime": {
     "end_time": "2018-04-03T11:45:51.559138Z",
     "start_time": "2018-04-03T11:45:51.495757Z"
    }
   },
   "outputs": [],
   "source": [
    "#sess.close()"
   ]
  },
  {
   "cell_type": "code",
   "execution_count": 15,
   "metadata": {
    "ExecuteTime": {
     "end_time": "2018-04-03T11:47:44.334975Z",
     "start_time": "2018-04-03T11:45:51.562180Z"
    }
   },
   "outputs": [
    {
     "name": "stdout",
     "output_type": "stream",
     "text": [
      "/home/minesh/anaconda3/lib/python3.6/site-packages/h5py/__init__.py:34: FutureWarning: Conversion of the second argument of issubdtype from `float` to `np.floating` is deprecated. In future, it will be treated as `np.float64 == np.dtype(float).type`.\n",
      "  from ._conv import register_converters as _register_converters\n",
      "TensorBoard 1.5.1 at http://Immortal:6006 (Press CTRL+C to quit)\n",
      "\u001b[33mW0403 14:45:58.949438 Thread-1 application.py:273] path /[[_dataImageSrc]] not found, sending 404\n",
      "\u001b[0m^C\n"
     ]
    }
   ],
   "source": [
    "!tensorboard --logdir=./train"
   ]
  },
  {
   "cell_type": "code",
   "execution_count": 16,
   "metadata": {
    "ExecuteTime": {
     "end_time": "2018-04-03T11:47:44.453260Z",
     "start_time": "2018-04-03T11:47:44.337307Z"
    }
   },
   "outputs": [],
   "source": [
    "!rm -rf ./train"
   ]
  },
  {
   "cell_type": "code",
   "execution_count": null,
   "metadata": {},
   "outputs": [],
   "source": []
  }
 ],
 "metadata": {
  "kernelspec": {
   "display_name": "Python 3",
   "language": "python",
   "name": "python3"
  },
  "language_info": {
   "codemirror_mode": {
    "name": "ipython",
    "version": 3
   },
   "file_extension": ".py",
   "mimetype": "text/x-python",
   "name": "python",
   "nbconvert_exporter": "python",
   "pygments_lexer": "ipython3",
   "version": "3.6.3"
  },
  "toc": {
   "nav_menu": {},
   "number_sections": true,
   "sideBar": true,
   "skip_h1_title": false,
   "title_cell": "Table of Contents",
   "title_sidebar": "Contents",
   "toc_cell": false,
   "toc_position": {},
   "toc_section_display": true,
   "toc_window_display": true
  },
  "varInspector": {
   "cols": {
    "lenName": 16,
    "lenType": 16,
    "lenVar": 40
   },
   "kernels_config": {
    "python": {
     "delete_cmd_postfix": "",
     "delete_cmd_prefix": "del ",
     "library": "var_list.py",
     "varRefreshCmd": "print(var_dic_list())"
    },
    "r": {
     "delete_cmd_postfix": ") ",
     "delete_cmd_prefix": "rm(",
     "library": "var_list.r",
     "varRefreshCmd": "cat(var_dic_list()) "
    }
   },
   "types_to_exclude": [
    "module",
    "function",
    "builtin_function_or_method",
    "instance",
    "_Feature"
   ],
   "window_display": false
  }
 },
 "nbformat": 4,
 "nbformat_minor": 2
}
